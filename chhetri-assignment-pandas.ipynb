{
 "cells": [
  {
   "cell_type": "code",
   "execution_count": 10,
   "id": "3e2b0313",
   "metadata": {},
   "outputs": [
    {
     "data": {
      "text/html": [
       "<div>\n",
       "<style scoped>\n",
       "    .dataframe tbody tr th:only-of-type {\n",
       "        vertical-align: middle;\n",
       "    }\n",
       "\n",
       "    .dataframe tbody tr th {\n",
       "        vertical-align: top;\n",
       "    }\n",
       "\n",
       "    .dataframe thead th {\n",
       "        text-align: right;\n",
       "    }\n",
       "</style>\n",
       "<table border=\"1\" class=\"dataframe\">\n",
       "  <thead>\n",
       "    <tr style=\"text-align: right;\">\n",
       "      <th></th>\n",
       "      <th>Review #</th>\n",
       "      <th>Brand</th>\n",
       "      <th>Variety</th>\n",
       "      <th>Style</th>\n",
       "      <th>Country</th>\n",
       "      <th>Stars</th>\n",
       "      <th>Top Ten</th>\n",
       "    </tr>\n",
       "  </thead>\n",
       "  <tbody>\n",
       "    <tr>\n",
       "      <th>447</th>\n",
       "      <td>2133</td>\n",
       "      <td>Nissin</td>\n",
       "      <td>Kimchi Chikin Ramen Donburi</td>\n",
       "      <td>Bowl</td>\n",
       "      <td>Japan</td>\n",
       "      <td>5.00</td>\n",
       "      <td>NaN</td>\n",
       "    </tr>\n",
       "    <tr>\n",
       "      <th>454</th>\n",
       "      <td>2126</td>\n",
       "      <td>Nissin</td>\n",
       "      <td>Mennippon Oumi Chanpon</td>\n",
       "      <td>Bowl</td>\n",
       "      <td>Japan</td>\n",
       "      <td>5.00</td>\n",
       "      <td>NaN</td>\n",
       "    </tr>\n",
       "    <tr>\n",
       "      <th>603</th>\n",
       "      <td>1977</td>\n",
       "      <td>MyOri</td>\n",
       "      <td>Malaysia Penang Green Curry Vermicelli (New Pa...</td>\n",
       "      <td>Pack</td>\n",
       "      <td>Malaysia</td>\n",
       "      <td>5.00</td>\n",
       "      <td>NaN</td>\n",
       "    </tr>\n",
       "    <tr>\n",
       "      <th>530</th>\n",
       "      <td>2050</td>\n",
       "      <td>MyKuali</td>\n",
       "      <td>Penang Red Tom Yum Goong Noodle Authentic Taste</td>\n",
       "      <td>Cup</td>\n",
       "      <td>Malaysia</td>\n",
       "      <td>5.00</td>\n",
       "      <td>NaN</td>\n",
       "    </tr>\n",
       "    <tr>\n",
       "      <th>383</th>\n",
       "      <td>2197</td>\n",
       "      <td>Mr. Lee's Noodles</td>\n",
       "      <td>Hong Kong Street Beef</td>\n",
       "      <td>Cup</td>\n",
       "      <td>UK</td>\n",
       "      <td>5.00</td>\n",
       "      <td>NaN</td>\n",
       "    </tr>\n",
       "  </tbody>\n",
       "</table>\n",
       "</div>"
      ],
      "text/plain": [
       "     Review #              Brand  \\\n",
       "447      2133             Nissin   \n",
       "454      2126             Nissin   \n",
       "603      1977              MyOri   \n",
       "530      2050            MyKuali   \n",
       "383      2197  Mr. Lee's Noodles   \n",
       "\n",
       "                                               Variety Style   Country Stars  \\\n",
       "447                        Kimchi Chikin Ramen Donburi  Bowl     Japan  5.00   \n",
       "454                             Mennippon Oumi Chanpon  Bowl     Japan  5.00   \n",
       "603  Malaysia Penang Green Curry Vermicelli (New Pa...  Pack  Malaysia  5.00   \n",
       "530    Penang Red Tom Yum Goong Noodle Authentic Taste   Cup  Malaysia  5.00   \n",
       "383                              Hong Kong Street Beef   Cup        UK  5.00   \n",
       "\n",
       "    Top Ten  \n",
       "447     NaN  \n",
       "454     NaN  \n",
       "603     NaN  \n",
       "530     NaN  \n",
       "383     NaN  "
      ]
     },
     "execution_count": 10,
     "metadata": {},
     "output_type": "execute_result"
    }
   ],
   "source": [
    "#Q1\n",
    "import pandas as pd\n",
    "ramen = pd.read_csv(\"ramen-ratings.csv\")\n",
    "ramen.head()\n",
    "ramen = ramen.sort_values(\"Stars\", ascending = False)\n",
    "ramen.head()\n",
    "ramen = ramen.iloc[3:, :]\n",
    "ramen.head()"
   ]
  },
  {
   "cell_type": "code",
   "execution_count": 15,
   "id": "ac72e5a0",
   "metadata": {},
   "outputs": [
    {
     "name": "stdout",
     "output_type": "stream",
     "text": [
      "<class 'pandas.core.frame.DataFrame'>\n",
      "Int64Index: 2577 entries, 447 to 53\n",
      "Data columns (total 7 columns):\n",
      " #   Column    Non-Null Count  Dtype  \n",
      "---  ------    --------------  -----  \n",
      " 0   Review #  2577 non-null   int64  \n",
      " 1   Brand     2577 non-null   object \n",
      " 2   Variety   2577 non-null   object \n",
      " 3   Style     2575 non-null   object \n",
      " 4   Country   2577 non-null   object \n",
      " 5   Stars     2577 non-null   float64\n",
      " 6   Top Ten   41 non-null     object \n",
      "dtypes: float64(1), int64(1), object(5)\n",
      "memory usage: 161.1+ KB\n"
     ]
    }
   ],
   "source": [
    "#Q2\n",
    "ramen['Stars']= ramen['Stars'].astype(float)\n",
    "ramen.info()\n"
   ]
  },
  {
   "cell_type": "code",
   "execution_count": 16,
   "id": "5f4523bb",
   "metadata": {},
   "outputs": [
    {
     "data": {
      "text/plain": [
       "3.6546759798214974"
      ]
     },
     "execution_count": 16,
     "metadata": {},
     "output_type": "execute_result"
    }
   ],
   "source": [
    "#Q3\n",
    "ramen['Stars'].mean()"
   ]
  },
  {
   "cell_type": "code",
   "execution_count": 28,
   "id": "562f8bcd",
   "metadata": {},
   "outputs": [
    {
     "data": {
      "text/html": [
       "<div>\n",
       "<style scoped>\n",
       "    .dataframe tbody tr th:only-of-type {\n",
       "        vertical-align: middle;\n",
       "    }\n",
       "\n",
       "    .dataframe tbody tr th {\n",
       "        vertical-align: top;\n",
       "    }\n",
       "\n",
       "    .dataframe thead th {\n",
       "        text-align: right;\n",
       "    }\n",
       "</style>\n",
       "<table border=\"1\" class=\"dataframe\">\n",
       "  <thead>\n",
       "    <tr style=\"text-align: right;\">\n",
       "      <th></th>\n",
       "      <th>Review #</th>\n",
       "      <th>Variety</th>\n",
       "      <th>Style</th>\n",
       "      <th>Country</th>\n",
       "      <th>Stars</th>\n",
       "      <th>Top Ten</th>\n",
       "    </tr>\n",
       "    <tr>\n",
       "      <th>Brand</th>\n",
       "      <th></th>\n",
       "      <th></th>\n",
       "      <th></th>\n",
       "      <th></th>\n",
       "      <th></th>\n",
       "      <th></th>\n",
       "    </tr>\n",
       "  </thead>\n",
       "  <tbody>\n",
       "    <tr>\n",
       "      <th>A-Sha Dry Noodle</th>\n",
       "      <td>6</td>\n",
       "      <td>6</td>\n",
       "      <td>6</td>\n",
       "      <td>6</td>\n",
       "      <td>6</td>\n",
       "      <td>1</td>\n",
       "    </tr>\n",
       "    <tr>\n",
       "      <th>ABC</th>\n",
       "      <td>1</td>\n",
       "      <td>1</td>\n",
       "      <td>1</td>\n",
       "      <td>1</td>\n",
       "      <td>1</td>\n",
       "      <td>0</td>\n",
       "    </tr>\n",
       "    <tr>\n",
       "      <th>Acecook</th>\n",
       "      <td>1</td>\n",
       "      <td>1</td>\n",
       "      <td>1</td>\n",
       "      <td>1</td>\n",
       "      <td>1</td>\n",
       "      <td>0</td>\n",
       "    </tr>\n",
       "    <tr>\n",
       "      <th>Ah Lai</th>\n",
       "      <td>1</td>\n",
       "      <td>1</td>\n",
       "      <td>1</td>\n",
       "      <td>1</td>\n",
       "      <td>1</td>\n",
       "      <td>0</td>\n",
       "    </tr>\n",
       "    <tr>\n",
       "      <th>Amianda</th>\n",
       "      <td>1</td>\n",
       "      <td>1</td>\n",
       "      <td>1</td>\n",
       "      <td>1</td>\n",
       "      <td>1</td>\n",
       "      <td>0</td>\n",
       "    </tr>\n",
       "    <tr>\n",
       "      <th>...</th>\n",
       "      <td>...</td>\n",
       "      <td>...</td>\n",
       "      <td>...</td>\n",
       "      <td>...</td>\n",
       "      <td>...</td>\n",
       "      <td>...</td>\n",
       "    </tr>\n",
       "    <tr>\n",
       "      <th>Wu Mu</th>\n",
       "      <td>1</td>\n",
       "      <td>1</td>\n",
       "      <td>1</td>\n",
       "      <td>1</td>\n",
       "      <td>1</td>\n",
       "      <td>0</td>\n",
       "    </tr>\n",
       "    <tr>\n",
       "      <th>Wugudaochang</th>\n",
       "      <td>2</td>\n",
       "      <td>2</td>\n",
       "      <td>2</td>\n",
       "      <td>2</td>\n",
       "      <td>2</td>\n",
       "      <td>1</td>\n",
       "    </tr>\n",
       "    <tr>\n",
       "      <th>Xiao Ban Mian</th>\n",
       "      <td>1</td>\n",
       "      <td>1</td>\n",
       "      <td>1</td>\n",
       "      <td>1</td>\n",
       "      <td>1</td>\n",
       "      <td>0</td>\n",
       "    </tr>\n",
       "    <tr>\n",
       "      <th>Yamachan</th>\n",
       "      <td>4</td>\n",
       "      <td>4</td>\n",
       "      <td>4</td>\n",
       "      <td>4</td>\n",
       "      <td>4</td>\n",
       "      <td>0</td>\n",
       "    </tr>\n",
       "    <tr>\n",
       "      <th>Yum Yum</th>\n",
       "      <td>2</td>\n",
       "      <td>2</td>\n",
       "      <td>2</td>\n",
       "      <td>2</td>\n",
       "      <td>2</td>\n",
       "      <td>0</td>\n",
       "    </tr>\n",
       "  </tbody>\n",
       "</table>\n",
       "<p>106 rows × 6 columns</p>\n",
       "</div>"
      ],
      "text/plain": [
       "                  Review #  Variety  Style  Country  Stars  Top Ten\n",
       "Brand                                                              \n",
       "A-Sha Dry Noodle         6        6      6        6      6        1\n",
       "ABC                      1        1      1        1      1        0\n",
       "Acecook                  1        1      1        1      1        0\n",
       "Ah Lai                   1        1      1        1      1        0\n",
       "Amianda                  1        1      1        1      1        0\n",
       "...                    ...      ...    ...      ...    ...      ...\n",
       "Wu Mu                    1        1      1        1      1        0\n",
       "Wugudaochang             2        2      2        2      2        1\n",
       "Xiao Ban Mian            1        1      1        1      1        0\n",
       "Yamachan                 4        4      4        4      4        0\n",
       "Yum Yum                  2        2      2        2      2        0\n",
       "\n",
       "[106 rows x 6 columns]"
      ]
     },
     "execution_count": 28,
     "metadata": {},
     "output_type": "execute_result"
    }
   ],
   "source": [
    "#Q4\n",
    "#identify brands that have at least one 5-star ratings\n",
    "ramen5 = ramen[ramen['Stars']==5.00]\n",
    "ramen5.head()\n",
    "ramen5.groupby('Brand').count()\n",
    "#a total of 106 brands have at least one 5 star rating"
   ]
  },
  {
   "cell_type": "code",
   "execution_count": 45,
   "id": "05eafc15",
   "metadata": {},
   "outputs": [
    {
     "data": {
      "text/plain": [
       "release_year\n",
       "1925       1\n",
       "1942       2\n",
       "1943       3\n",
       "1944       3\n",
       "1945       3\n",
       "        ... \n",
       "2016     830\n",
       "2017     959\n",
       "2018    1063\n",
       "2019     843\n",
       "2020      25\n",
       "Name: show_id, Length: 72, dtype: int64"
      ]
     },
     "execution_count": 45,
     "metadata": {},
     "output_type": "execute_result"
    }
   ],
   "source": [
    "#netflix_titles\n",
    "#Q1\n",
    "\"\"\"\n",
    "Using the .groupby() and .count() method, \n",
    "get the number of unique movies of each release_year. \n",
    "You can regard show_id as the unique identifier of a movie.\n",
    "\"\"\"\n",
    "netflix = pd.read_csv(\"netflix-titles.csv\")\n",
    "netflix.head()\n",
    "netflix.groupby('release_year')['show_id'].count()\n"
   ]
  },
  {
   "cell_type": "code",
   "execution_count": 51,
   "id": "8281dc4d",
   "metadata": {},
   "outputs": [
    {
     "data": {
      "text/plain": [
       "(73, 12)"
      ]
     },
     "execution_count": 51,
     "metadata": {},
     "output_type": "execute_result"
    }
   ],
   "source": [
    "#Q2\n",
    "\n",
    "netflix_ny = netflix[netflix['description'].str.contains(\"New York\")]\n",
    "netflix_ny.shape\n",
    "#there are 73 movies that somehow pertain to New York. "
   ]
  },
  {
   "cell_type": "code",
   "execution_count": 53,
   "id": "42d33b54",
   "metadata": {
    "scrolled": true
   },
   "outputs": [
    {
     "data": {
      "text/plain": [
       "76      Two Turkish agents are sent to New York City o...\n",
       "114     After 30 years with the New York City Ballet, ...\n",
       "135     A New York City grad student moonlighting as a...\n",
       "302     In this documentary, the director remembers a ...\n",
       "363     After serving time in jail, a disgraced son re...\n",
       "                              ...                        \n",
       "5853    Set in 1960s New York City, this award-winning...\n",
       "5942    A privileged New Yorker ends up in a women's p...\n",
       "6076    A flawed but dedicated ER nurse works in a New...\n",
       "6183    In 1977 New York City, the talented and soulfu...\n",
       "6215    Still pining for Josh, the boy who dumped her ...\n",
       "Name: description, Length: 73, dtype: object"
      ]
     },
     "execution_count": 53,
     "metadata": {},
     "output_type": "execute_result"
    }
   ],
   "source": [
    "netflix_ny['description']"
   ]
  }
 ],
 "metadata": {
  "kernelspec": {
   "display_name": "Python 3 (ipykernel)",
   "language": "python",
   "name": "python3"
  },
  "language_info": {
   "codemirror_mode": {
    "name": "ipython",
    "version": 3
   },
   "file_extension": ".py",
   "mimetype": "text/x-python",
   "name": "python",
   "nbconvert_exporter": "python",
   "pygments_lexer": "ipython3",
   "version": "3.9.7"
  }
 },
 "nbformat": 4,
 "nbformat_minor": 5
}
