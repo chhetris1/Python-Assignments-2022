{
 "cells": [
  {
   "cell_type": "code",
   "execution_count": 2,
   "id": "5f98fa38",
   "metadata": {},
   "outputs": [
    {
     "data": {
      "text/html": [
       "<div>\n",
       "<style scoped>\n",
       "    .dataframe tbody tr th:only-of-type {\n",
       "        vertical-align: middle;\n",
       "    }\n",
       "\n",
       "    .dataframe tbody tr th {\n",
       "        vertical-align: top;\n",
       "    }\n",
       "\n",
       "    .dataframe thead th {\n",
       "        text-align: right;\n",
       "    }\n",
       "</style>\n",
       "<table border=\"1\" class=\"dataframe\">\n",
       "  <thead>\n",
       "    <tr style=\"text-align: right;\">\n",
       "      <th></th>\n",
       "      <th>Country name</th>\n",
       "      <th>Regional indicator</th>\n",
       "      <th>Ladder score</th>\n",
       "      <th>Logged GDP per capita</th>\n",
       "      <th>Social support</th>\n",
       "      <th>Healthy life expectancy</th>\n",
       "      <th>Freedom to make life choices</th>\n",
       "      <th>Generosity</th>\n",
       "      <th>Perceptions of corruption</th>\n",
       "    </tr>\n",
       "  </thead>\n",
       "  <tbody>\n",
       "    <tr>\n",
       "      <th>0</th>\n",
       "      <td>Finland</td>\n",
       "      <td>Western Europe</td>\n",
       "      <td>7.8087</td>\n",
       "      <td>10.639267</td>\n",
       "      <td>0.954330</td>\n",
       "      <td>71.900825</td>\n",
       "      <td>0.949172</td>\n",
       "      <td>-0.059482</td>\n",
       "      <td>0.195445</td>\n",
       "    </tr>\n",
       "    <tr>\n",
       "      <th>1</th>\n",
       "      <td>Denmark</td>\n",
       "      <td>Western Europe</td>\n",
       "      <td>7.6456</td>\n",
       "      <td>10.774001</td>\n",
       "      <td>0.955991</td>\n",
       "      <td>72.402504</td>\n",
       "      <td>0.951444</td>\n",
       "      <td>0.066202</td>\n",
       "      <td>0.168489</td>\n",
       "    </tr>\n",
       "    <tr>\n",
       "      <th>2</th>\n",
       "      <td>Switzerland</td>\n",
       "      <td>Western Europe</td>\n",
       "      <td>7.5599</td>\n",
       "      <td>10.979933</td>\n",
       "      <td>0.942847</td>\n",
       "      <td>74.102448</td>\n",
       "      <td>0.921337</td>\n",
       "      <td>0.105911</td>\n",
       "      <td>0.303728</td>\n",
       "    </tr>\n",
       "    <tr>\n",
       "      <th>3</th>\n",
       "      <td>Iceland</td>\n",
       "      <td>Western Europe</td>\n",
       "      <td>7.5045</td>\n",
       "      <td>10.772559</td>\n",
       "      <td>0.974670</td>\n",
       "      <td>73.000000</td>\n",
       "      <td>0.948892</td>\n",
       "      <td>0.246944</td>\n",
       "      <td>0.711710</td>\n",
       "    </tr>\n",
       "    <tr>\n",
       "      <th>4</th>\n",
       "      <td>Norway</td>\n",
       "      <td>Western Europe</td>\n",
       "      <td>7.4880</td>\n",
       "      <td>11.087804</td>\n",
       "      <td>0.952487</td>\n",
       "      <td>73.200783</td>\n",
       "      <td>0.955750</td>\n",
       "      <td>0.134533</td>\n",
       "      <td>0.263218</td>\n",
       "    </tr>\n",
       "  </tbody>\n",
       "</table>\n",
       "</div>"
      ],
      "text/plain": [
       "  Country name Regional indicator  Ladder score  Logged GDP per capita  \\\n",
       "0      Finland     Western Europe        7.8087              10.639267   \n",
       "1      Denmark     Western Europe        7.6456              10.774001   \n",
       "2  Switzerland     Western Europe        7.5599              10.979933   \n",
       "3      Iceland     Western Europe        7.5045              10.772559   \n",
       "4       Norway     Western Europe        7.4880              11.087804   \n",
       "\n",
       "   Social support  Healthy life expectancy  Freedom to make life choices  \\\n",
       "0        0.954330                71.900825                      0.949172   \n",
       "1        0.955991                72.402504                      0.951444   \n",
       "2        0.942847                74.102448                      0.921337   \n",
       "3        0.974670                73.000000                      0.948892   \n",
       "4        0.952487                73.200783                      0.955750   \n",
       "\n",
       "   Generosity  Perceptions of corruption  \n",
       "0   -0.059482                   0.195445  \n",
       "1    0.066202                   0.168489  \n",
       "2    0.105911                   0.303728  \n",
       "3    0.246944                   0.711710  \n",
       "4    0.134533                   0.263218  "
      ]
     },
     "execution_count": 2,
     "metadata": {},
     "output_type": "execute_result"
    }
   ],
   "source": [
    "import pandas as pd\n",
    "from matplotlib import pyplot as plt\n",
    "df = pd.read_csv(\"world_happiness_report_2020.csv\")\n",
    "df.head()"
   ]
  },
  {
   "cell_type": "code",
   "execution_count": 3,
   "id": "40ca10ff",
   "metadata": {},
   "outputs": [
    {
     "name": "stdout",
     "output_type": "stream",
     "text": [
      "(153, 9)\n",
      "<class 'pandas.core.frame.DataFrame'>\n",
      "RangeIndex: 153 entries, 0 to 152\n",
      "Data columns (total 9 columns):\n",
      " #   Column                        Non-Null Count  Dtype  \n",
      "---  ------                        --------------  -----  \n",
      " 0   Country name                  153 non-null    object \n",
      " 1   Regional indicator            153 non-null    object \n",
      " 2   Ladder score                  153 non-null    float64\n",
      " 3   Logged GDP per capita         153 non-null    float64\n",
      " 4   Social support                153 non-null    float64\n",
      " 5   Healthy life expectancy       153 non-null    float64\n",
      " 6   Freedom to make life choices  153 non-null    float64\n",
      " 7   Generosity                    153 non-null    float64\n",
      " 8   Perceptions of corruption     153 non-null    float64\n",
      "dtypes: float64(7), object(2)\n",
      "memory usage: 10.9+ KB\n"
     ]
    }
   ],
   "source": [
    "print(df.shape)\n",
    "df.info()\n",
    "#There are 153 observations"
   ]
  },
  {
   "cell_type": "code",
   "execution_count": 4,
   "id": "663c25e0",
   "metadata": {},
   "outputs": [
    {
     "data": {
      "text/plain": [
       "10891.150296012715"
      ]
     },
     "execution_count": 4,
     "metadata": {},
     "output_type": "execute_result"
    }
   ],
   "source": [
    "#summary\n",
    "#What's the median life expectancy of all countries? \n",
    "df[\"Healthy life expectancy\"].median()\n",
    "#It's 66.3 years. Not bad\n",
    "\n",
    "df.loc[df[\"Country name\"]== \"Nepal\"]\n",
    "#just 63.77 years\n",
    "#Now what are the most and least free countries? \n",
    "df1 = df.sort_values(\"Freedom to make life choices\")\n",
    "df1\n",
    "#Afghanistan, South Sudan, Algeria, Haiti, and Greece seem to the least free countries in terms of\n",
    "#abilities to make life choices.\n",
    "df2 = df.sort_values(\"Freedom to make life choices\", ascending = False)\n",
    "df2\n",
    "#Uzbekistan, Cambodia, Norway, Denmark, and Finland seem to be the freest countries\n",
    "\n",
    "#What's the mean GDP of all the countries? \n",
    "import numpy as np\n",
    "x = df[\"Logged GDP per capita\"].mean()\n",
    "np.exp(x)\n",
    "#average GDP per capita of the world is $10,891"
   ]
  },
  {
   "cell_type": "code",
   "execution_count": 12,
   "id": "73534cde",
   "metadata": {},
   "outputs": [
    {
     "data": {
      "text/html": [
       "<div>\n",
       "<style scoped>\n",
       "    .dataframe tbody tr th:only-of-type {\n",
       "        vertical-align: middle;\n",
       "    }\n",
       "\n",
       "    .dataframe tbody tr th {\n",
       "        vertical-align: top;\n",
       "    }\n",
       "\n",
       "    .dataframe thead th {\n",
       "        text-align: right;\n",
       "    }\n",
       "</style>\n",
       "<table border=\"1\" class=\"dataframe\">\n",
       "  <thead>\n",
       "    <tr style=\"text-align: right;\">\n",
       "      <th></th>\n",
       "      <th>Country name</th>\n",
       "      <th>Regional indicator</th>\n",
       "      <th>Ladder score</th>\n",
       "      <th>Logged GDP per capita</th>\n",
       "      <th>Social support</th>\n",
       "      <th>Healthy life expectancy</th>\n",
       "      <th>Freedom to make life choices</th>\n",
       "      <th>Generosity</th>\n",
       "      <th>Perceptions of corruption</th>\n",
       "      <th>rich_poor</th>\n",
       "    </tr>\n",
       "  </thead>\n",
       "  <tbody>\n",
       "    <tr>\n",
       "      <th>91</th>\n",
       "      <td>Nepal</td>\n",
       "      <td>South Asia</td>\n",
       "      <td>5.1372</td>\n",
       "      <td>7.925357</td>\n",
       "      <td>0.785512</td>\n",
       "      <td>63.779179</td>\n",
       "      <td>0.797565</td>\n",
       "      <td>0.154169</td>\n",
       "      <td>0.738099</td>\n",
       "      <td>poor</td>\n",
       "    </tr>\n",
       "  </tbody>\n",
       "</table>\n",
       "</div>"
      ],
      "text/plain": [
       "   Country name Regional indicator  Ladder score  Logged GDP per capita  \\\n",
       "91        Nepal         South Asia        5.1372               7.925357   \n",
       "\n",
       "    Social support  Healthy life expectancy  Freedom to make life choices  \\\n",
       "91        0.785512                63.779179                      0.797565   \n",
       "\n",
       "    Generosity  Perceptions of corruption rich_poor  \n",
       "91    0.154169                   0.738099      poor  "
      ]
     },
     "execution_count": 12,
     "metadata": {},
     "output_type": "execute_result"
    }
   ],
   "source": [
    "df.loc[df['Country name'] == 'Nepal']\n",
    "#seeing how Nepal, my home country, ranks. "
   ]
  },
  {
   "cell_type": "code",
   "execution_count": 5,
   "id": "ea22f155",
   "metadata": {},
   "outputs": [
    {
     "name": "stdout",
     "output_type": "stream",
     "text": [
      "Correlation between social support and life expectancy is statistically significant\n",
      "correlation =  0.7427440895198052\n",
      "p-value =  4.308627486337134e-28\n"
     ]
    }
   ],
   "source": [
    "#are social support and life expectancy correlated? \n",
    "import scipy.stats as ss\n",
    "r, p = ss.pearsonr(df['Social support'], df['Healthy life expectancy'])\n",
    "if p<=0.05:\n",
    "    print(\"Correlation between social support and life expectancy is statistically significant\")\n",
    "    print(\"correlation = \", r)\n",
    "    print(\"p-value = \", p)\n",
    "else:\n",
    "    print(\"No statistically significant correlation exists between social support and life expectancy\")\n",
    "    "
   ]
  },
  {
   "cell_type": "code",
   "execution_count": 6,
   "id": "a182a829",
   "metadata": {},
   "outputs": [
    {
     "name": "stdout",
     "output_type": "stream",
     "text": [
      "<class 'pandas.core.frame.DataFrame'>\n",
      "RangeIndex: 153 entries, 0 to 152\n",
      "Data columns (total 10 columns):\n",
      " #   Column                        Non-Null Count  Dtype  \n",
      "---  ------                        --------------  -----  \n",
      " 0   Country name                  153 non-null    object \n",
      " 1   Regional indicator            153 non-null    object \n",
      " 2   Ladder score                  153 non-null    float64\n",
      " 3   Logged GDP per capita         153 non-null    float64\n",
      " 4   Social support                153 non-null    float64\n",
      " 5   Healthy life expectancy       153 non-null    float64\n",
      " 6   Freedom to make life choices  153 non-null    float64\n",
      " 7   Generosity                    153 non-null    float64\n",
      " 8   Perceptions of corruption     153 non-null    float64\n",
      " 9   rich_poor                     153 non-null    object \n",
      "dtypes: float64(7), object(3)\n",
      "memory usage: 12.1+ KB\n",
      "None\n",
      "Being in a rich or poor country DOES predict how people percieve their position in the social ladder\n"
     ]
    },
    {
     "name": "stderr",
     "output_type": "stream",
     "text": [
      "<ipython-input-6-c21930e27922>:8: SettingWithCopyWarning: \n",
      "A value is trying to be set on a copy of a slice from a DataFrame\n",
      "\n",
      "See the caveats in the documentation: https://pandas.pydata.org/pandas-docs/stable/user_guide/indexing.html#returning-a-view-versus-a-copy\n",
      "  df[\"rich_poor\"][df[\"Logged GDP per capita\"]>=x] = \"rich\"\n"
     ]
    }
   ],
   "source": [
    "\"\"\"\n",
    "I want to divide countries into two groups - rich and poor - based on their GDP per capita,\n",
    "dividing them by the median GDP. \n",
    "Then I want to compare them on social ladder variable. \n",
    "Do people in rich country feel higher up in the social ladder than those in poor countries? \n",
    "\"\"\"\n",
    "df[\"rich_poor\"] = [np.nan for i in range(len(df.index))]\n",
    "df[\"rich_poor\"][df[\"Logged GDP per capita\"]>=x] = \"rich\"\n",
    "df[\"rich_poor\"][df[\"Logged GDP per capita\"]<x] = \"poor\"\n",
    "\n",
    "print(df.info())\n",
    "df.head()\n",
    "rich_ladder = df.where(df[\"rich_poor\"]==\"rich\").dropna()[\"Ladder score\"]\n",
    "poor_ladder = df.where(df[\"rich_poor\"] == \"poor\").dropna()[\"Ladder score\"]\n",
    "t, p = ss.ttest_ind(rich_ladder, poor_ladder)\n",
    "if p <=0.05:\n",
    "    print(\"Being in a rich or poor country DOES predict how people percieve their position in the social ladder\")\n",
    "else:\n",
    "    print(\"Being in a rich or poor country DOES NOT predict how people percieve their position in the social ladder\")\n",
    "    \n",
    "    "
   ]
  },
  {
   "cell_type": "code",
   "execution_count": 66,
   "id": "3d44b430",
   "metadata": {},
   "outputs": [
    {
     "data": {
      "image/png": "[encoded data removed]",
      "text/plain": [
       "<Figure size 576x360 with 1 Axes>"
      ]
     },
     "metadata": {
      "needs_background": "light"
     },
     "output_type": "display_data"
    }
   ],
   "source": [
    "#plotting how generous are people in different parts of the world\n",
    "df2 = df.groupby(\"Regional indicator\")[\"Generosity\"].mean().reset_index(name = \"generosity_level\")\n",
    "df2\n",
    "plt.figure(figsize = (8,5))\n",
    "plt.bar(df2[\"Regional indicator\"], df2[\"generosity_level\"])\n",
    "plt.xticks(rotation = 90)\n",
    "plt.ylabel(\"generosity level\")\n",
    "plt.title(\"How generous are people in different parts of the world?\")\n",
    "plt.show()"
   ]
  },
  {
   "cell_type": "code",
   "execution_count": 8,
   "id": "f2678283",
   "metadata": {},
   "outputs": [
    {
     "data": {
      "image/png": "[encoded data removed]",
      "text/plain": [
       "<Figure size 576x360 with 1 Axes>"
      ]
     },
     "metadata": {
      "needs_background": "light"
     },
     "output_type": "display_data"
    }
   ],
   "source": [
    "#plotting how personal liberty relates to prosperity\n",
    "plt.figure(figsize = (8,5))\n",
    "x = df[\"Freedom to make life choices\"]\n",
    "y = df[\"Logged GDP per capita\"]\n",
    "plt.scatter(x,y)\n",
    "plt.xlabel(\"Freedom to make life choices\")\n",
    "plt.ylabel(\"Logged GDP per capita\")\n",
    "plt.title(\"Is personal liberty associated with higher prosperity?\")\n",
    "#for the best fit line:\n",
    "theta = np.polyfit(x,y,1)\n",
    "y_line = theta[1] + theta[0]*x\n",
    "plt.plot(x, y_line, 'r')\n",
    "plt.show()"
   ]
  },
  {
   "cell_type": "code",
   "execution_count": 14,
   "id": "18ed3cb1",
   "metadata": {},
   "outputs": [
    {
     "data": {
      "image/png": "[encoded data removed]",
      "text/plain": [
       "<Figure size 576x360 with 1 Axes>"
      ]
     },
     "metadata": {
      "needs_background": "light"
     },
     "output_type": "display_data"
    },
    {
     "name": "stdout",
     "output_type": "stream",
     "text": [
      "Correlation between GDP per capita and happiness is statistically significant\n",
      "correlation =  0.7753744007526844\n",
      "p-value =  5.983050790572217e-32\n"
     ]
    }
   ],
   "source": [
    "plt.figure(figsize = (8,5))\n",
    "x = df[\"Logged GDP per capita\"]\n",
    "y = df[\"Ladder score\"]\n",
    "plt.scatter(x,y)\n",
    "plt.ylabel(\"Happiness with life\")\n",
    "plt.xlabel(\"Logged GDP per capita\")\n",
    "plt.title(\"Is richer always happier\")\n",
    "#for the best fit line:\n",
    "theta = np.polyfit(x,y,1)\n",
    "y_line = theta[1] + theta[0]*x\n",
    "plt.plot(x, y_line, 'r')\n",
    "plt.show()\n",
    "#######\n",
    "\n",
    "\n",
    "r, p = ss.pearsonr(x, y)\n",
    "if p<=0.05:\n",
    "    print(\"Correlation between GDP per capita and happiness is statistically significant\")\n",
    "    print(\"correlation = \", r)\n",
    "    print(\"p-value = \", p)\n",
    "else:\n",
    "    print(\"No statistically significant correlation exists between GDP per capita and happiness\")\n"
   ]
  },
  {
   "cell_type": "code",
   "execution_count": null,
   "id": "e8147f5a",
   "metadata": {},
   "outputs": [],
   "source": [
    "\"\"\"\n",
    "The dataset I chose for the project records various indicators of happiness in the countries all over the world. Based on various calculations, analyses, and visualizations, I have learned several interesting facts, such as the following:\n",
    " The median life expectancy of people all over the world is 66.3 as of 2020. I am sad to report that Nepal, my home country, falls in the lower half of this series, with life expectancy at 63.77 years. \n",
    "Afghanistan, South Sudan, Algeria, Haiti, and Greece seem to the least free countries in terms of abilities to make life choices.In contrast, Uzbekistan, Cambodia, Norway, Denmark, and Finland seem to be the freest countries. I am surprised that Uzbekistan and Cambodia rank that high. I would not have guessed. \n",
    "After undoing the logarithmic values, I learned that the world average for GDP per capita stands at $10,891. It feels great to be living in a country where the GDP per capita is far above the world average. \n",
    "I did correlation test to examine whether the perceived social support is associated with life expectancy. The correlation was statistically significant (p <0.05) and pretty strong and positive (r = 0.74).\n",
    "I then wanted to examine whether people living in high income countries scored higher on the social ladder index. I created a new variable called “rich_poor” based on the GDP per capita: those higher than or equal to average were labeld “rich” and others “poor”. I ran an independent samples t-test to see if the GDP per capita predicts social index. \n",
    "Turns out, it does. The t-test yielded statistically significant result (p <0.05). \n",
    " I then created a bar chart to see what parts or regions of the world are more generous. Turns out, people in North America and Southeast Asia are the most generous whereas people in Central and Easter Europe are the least generous. \n",
    "I also made a scatter plot to investigate whether personal liberty, i.e. freedom to make life choices, relates to GDP per capita, a marker of prosperity. By the looks of the scatter plot, the correlation looks positive but not strong. \n",
    "Lastly, I wanted to test if richer is necessarily happier. Turns out, it is, since the correlation\n",
    "is significant. \n",
    "\n",
    "\"\"\""
   ]
  }
 ],
 "metadata": {
  "kernelspec": {
   "display_name": "Python 3",
   "language": "python",
   "name": "python3"
  },
  "language_info": {
   "codemirror_mode": {
    "name": "ipython",
    "version": 3
   },
   "file_extension": ".py",
   "mimetype": "text/x-python",
   "name": "python",
   "nbconvert_exporter": "python",
   "pygments_lexer": "ipython3",
   "version": "3.8.8"
  }
 },
 "nbformat": 4,
 "nbformat_minor": 5
}
